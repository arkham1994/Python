{
 "cells": [
  {
   "cell_type": "markdown",
   "metadata": {},
   "source": [
    "## Python Exception"
   ]
  },
  {
   "cell_type": "code",
   "execution_count": 1,
   "metadata": {},
   "outputs": [
    {
     "ename": "NameError",
     "evalue": "name 'b' is not defined",
     "output_type": "error",
     "traceback": [
      "\u001b[1;31m---------------------------------------------------------------------------\u001b[0m",
      "\u001b[1;31mNameError\u001b[0m                                 Traceback (most recent call last)",
      "\u001b[1;32m<ipython-input-1-488068fe1e94>\u001b[0m in \u001b[0;36m<module>\u001b[1;34m\u001b[0m\n\u001b[1;32m----> 1\u001b[1;33m \u001b[0ma\u001b[0m\u001b[1;33m=\u001b[0m\u001b[0mb\u001b[0m\u001b[1;33m\u001b[0m\u001b[1;33m\u001b[0m\u001b[0m\n\u001b[0m",
      "\u001b[1;31mNameError\u001b[0m: name 'b' is not defined"
     ]
    }
   ],
   "source": [
    "a=b"
   ]
  },
  {
   "cell_type": "code",
   "execution_count": 3,
   "metadata": {},
   "outputs": [
    {
     "name": "stdout",
     "output_type": "stream",
     "text": [
      "Some problem coud have occured\n"
     ]
    }
   ],
   "source": [
    "try:\n",
    "    #Code block where exception can occur\n",
    "    a=b\n",
    "except:\n",
    "    print('Some problem coud have occured')"
   ]
  },
  {
   "cell_type": "code",
   "execution_count": 4,
   "metadata": {},
   "outputs": [
    {
     "name": "stdout",
     "output_type": "stream",
     "text": [
      "name 'b' is not defined\n"
     ]
    }
   ],
   "source": [
    "try:\n",
    "    #Code block where exception can occur\n",
    "    a=b\n",
    "except Exception as ex:\n",
    "    print(ex)"
   ]
  },
  {
   "cell_type": "code",
   "execution_count": 5,
   "metadata": {},
   "outputs": [
    {
     "name": "stdout",
     "output_type": "stream",
     "text": [
      "user has not define the variable\n"
     ]
    }
   ],
   "source": [
    "try:\n",
    "    #Code block where exception can occur\n",
    "    a=b\n",
    "except NameError as ne:\n",
    "    print('user has not define the variable')\n",
    "except Exception as ex:\n",
    "    print(ex)"
   ]
  },
  {
   "cell_type": "code",
   "execution_count": 6,
   "metadata": {},
   "outputs": [
    {
     "name": "stdout",
     "output_type": "stream",
     "text": [
      "unsupported operand type(s) for +: 'int' and 'str'\n"
     ]
    }
   ],
   "source": [
    "try:\n",
    "    #Code block where exception can occur\n",
    "    a=1\n",
    "    b ='s'\n",
    "    c = a+b\n",
    "except NameError as ne:\n",
    "    print('user has not define the variable')\n",
    "except Exception as ex:\n",
    "    print(ex)"
   ]
  },
  {
   "cell_type": "code",
   "execution_count": 7,
   "metadata": {},
   "outputs": [
    {
     "name": "stdout",
     "output_type": "stream",
     "text": [
      "try to make data types similar\n"
     ]
    }
   ],
   "source": [
    "try:\n",
    "    #Code block where exception can occur\n",
    "    a=1\n",
    "    b ='s'\n",
    "    c = a+b\n",
    "except NameError as ne:\n",
    "    print('user has not define the variable')\n",
    "except TypeError as ne:\n",
    "    print('try to make data types similar')\n",
    "except Exception as ex:\n",
    "    print(ex)"
   ]
  },
  {
   "cell_type": "code",
   "execution_count": 11,
   "metadata": {},
   "outputs": [
    {
     "name": "stdout",
     "output_type": "stream",
     "text": [
      "Enter first number: 12\n",
      "Enter second number: 0\n",
      "give both numbers as non zero numbers\n"
     ]
    }
   ],
   "source": [
    "try:\n",
    "    #Code block where exception can occur\n",
    "    a=int(input('Enter first number: '))\n",
    "    b=int(input('Enter second number: '))\n",
    "    c = a+b\n",
    "    d =a/b\n",
    "    k= a*b\n",
    "    print(c)\n",
    "    print(d)\n",
    "    print(k)\n",
    "except NameError as ne:\n",
    "    print('user has not define the variable')\n",
    "except ZeroDivisionError as ze:\n",
    "    print('give both numbers as non zero numbers')    \n",
    "except TypeError as te:\n",
    "    print('try to make data types similar')\n",
    "except Exception as ex:\n",
    "    print(ex)"
   ]
  },
  {
   "cell_type": "markdown",
   "metadata": {},
   "source": [
    "#different outputs of the above code\n",
    "Enter first number: 12\n",
    "Enter second number: 6\n",
    "18\n",
    "2.0\n",
    "72\n",
    "Enter first number: 12\n",
    "Enter second number: 0\n",
    "division by zero\n",
    "Enter first number: 12\n",
    "Enter second number: 0\n",
    "give both numbers as non zero numbers"
   ]
  },
  {
   "cell_type": "code",
   "execution_count": 12,
   "metadata": {},
   "outputs": [
    {
     "name": "stdout",
     "output_type": "stream",
     "text": [
      "Enter first number: 12\n",
      "Enter second number: 4\n",
      "16\n",
      "3.0\n",
      "48\n"
     ]
    }
   ],
   "source": [
    "try:\n",
    "    #Code block where exception can occur\n",
    "    a=int(input('Enter first number: '))\n",
    "    b=int(input('Enter second number: '))\n",
    "    c = a+b\n",
    "    d =a/b\n",
    "    k= a*b\n",
    "\n",
    "except NameError as ne:\n",
    "    print('user has not define the variable')\n",
    "except ZeroDivisionError as ze:\n",
    "    print('give both numbers as non zero numbers')    \n",
    "except TypeError as te:\n",
    "    print('try to make data types similar')\n",
    "except Exception as ex:\n",
    "    print(ex)\n",
    "else:\n",
    "    print(c)\n",
    "    print(d)\n",
    "    print(k)"
   ]
  },
  {
   "cell_type": "code",
   "execution_count": 13,
   "metadata": {},
   "outputs": [
    {
     "name": "stdout",
     "output_type": "stream",
     "text": [
      "Enter first number: 12\n",
      "Enter second number: 0\n",
      "give both numbers as non zero numbers\n",
      "The program was executed successfully\n"
     ]
    }
   ],
   "source": [
    "# try else finally\n",
    "\n",
    "try:\n",
    "    #Code block where exception can occur\n",
    "    a=int(input('Enter first number: '))\n",
    "    b=int(input('Enter second number: '))\n",
    "    c = a+b\n",
    "    d =a/b\n",
    "    k= a*b\n",
    "\n",
    "except NameError as ne:\n",
    "    print('user has not define the variable')\n",
    "except ZeroDivisionError as ze:\n",
    "    print('give both numbers as non zero numbers')    \n",
    "except TypeError as te:\n",
    "    print('try to make data types similar')\n",
    "except Exception as ex:\n",
    "    print(ex)\n",
    "else:\n",
    "    print(c)\n",
    "    print(d)\n",
    "    print(k)\n",
    "finally:\n",
    "    print('The program was executed successfully')"
   ]
  },
  {
   "cell_type": "markdown",
   "metadata": {},
   "source": [
    "##Custom Exception"
   ]
  },
  {
   "cell_type": "code",
   "execution_count": 26,
   "metadata": {},
   "outputs": [],
   "source": [
    "class Error(Exception):\n",
    "    pass\n",
    "\n",
    "class dobException(Error):\n",
    "    pass"
   ]
  },
  {
   "cell_type": "code",
   "execution_count": 28,
   "metadata": {},
   "outputs": [
    {
     "name": "stdout",
     "output_type": "stream",
     "text": [
      "Please enter your birth year.2019\n",
      "Age is not in the valid range\n"
     ]
    }
   ],
   "source": [
    "year = int(input('Please enter your birth year.'))\n",
    "age = 2021 - year\n",
    "try:\n",
    "    if age <=30 & age >=20:\n",
    "        print('You can proceed further')\n",
    "    else: \n",
    "        raise dobException\n",
    "except dobException:  \n",
    "    print(\"Age is not in the valid range\")"
   ]
  },
  {
   "cell_type": "code",
   "execution_count": 29,
   "metadata": {},
   "outputs": [
    {
     "name": "stdout",
     "output_type": "stream",
     "text": [
      "Please enter your birth year.2019\n",
      "Age is not in the valid range\n"
     ]
    }
   ],
   "source": [
    "year = int(input('Please enter your birth year.'))\n",
    "age = 2021 - year\n",
    "try:\n",
    "    if age <=30 & age >=20:\n",
    "        print('You can proceed further')\n",
    "    else: \n",
    "        raise Exception\n",
    "except Exception:  \n",
    "    print(\"Age is not in the valid range\")"
   ]
  },
  {
   "cell_type": "markdown",
   "metadata": {},
   "source": [
    "##OOPS tUTORAIAL"
   ]
  },
  {
   "cell_type": "code",
   "execution_count": 30,
   "metadata": {},
   "outputs": [],
   "source": [
    "class car:\n",
    "    pass\n",
    "car1 = car()"
   ]
  },
  {
   "cell_type": "code",
   "execution_count": 31,
   "metadata": {},
   "outputs": [
    {
     "data": {
      "text/plain": [
       "<__main__.car at 0x2b8e0e7de10>"
      ]
     },
     "execution_count": 31,
     "metadata": {},
     "output_type": "execute_result"
    }
   ],
   "source": [
    "car1"
   ]
  },
  {
   "cell_type": "code",
   "execution_count": 32,
   "metadata": {},
   "outputs": [],
   "source": [
    "car1.windows =4\n",
    "car1.doors = 2"
   ]
  },
  {
   "cell_type": "code",
   "execution_count": 33,
   "metadata": {},
   "outputs": [
    {
     "data": {
      "text/plain": [
       "4"
      ]
     },
     "execution_count": 33,
     "metadata": {},
     "output_type": "execute_result"
    }
   ],
   "source": [
    "car1.windows"
   ]
  },
  {
   "cell_type": "code",
   "execution_count": 35,
   "metadata": {},
   "outputs": [],
   "source": [
    "car2 = car()\n",
    "car2.windows =3\n",
    "car2.doors = 3\n",
    "car2.enginetype = 'mah'"
   ]
  },
  {
   "cell_type": "code",
   "execution_count": 36,
   "metadata": {},
   "outputs": [
    {
     "data": {
      "text/plain": [
       "['__class__',\n",
       " '__delattr__',\n",
       " '__dict__',\n",
       " '__dir__',\n",
       " '__doc__',\n",
       " '__eq__',\n",
       " '__format__',\n",
       " '__ge__',\n",
       " '__getattribute__',\n",
       " '__gt__',\n",
       " '__hash__',\n",
       " '__init__',\n",
       " '__init_subclass__',\n",
       " '__le__',\n",
       " '__lt__',\n",
       " '__module__',\n",
       " '__ne__',\n",
       " '__new__',\n",
       " '__reduce__',\n",
       " '__reduce_ex__',\n",
       " '__repr__',\n",
       " '__setattr__',\n",
       " '__sizeof__',\n",
       " '__str__',\n",
       " '__subclasshook__',\n",
       " '__weakref__',\n",
       " 'doors',\n",
       " 'windows']"
      ]
     },
     "execution_count": 36,
     "metadata": {},
     "output_type": "execute_result"
    }
   ],
   "source": [
    "dir(car1)"
   ]
  },
  {
   "cell_type": "code",
   "execution_count": 37,
   "metadata": {},
   "outputs": [
    {
     "data": {
      "text/plain": [
       "['__class__',\n",
       " '__delattr__',\n",
       " '__dict__',\n",
       " '__dir__',\n",
       " '__doc__',\n",
       " '__eq__',\n",
       " '__format__',\n",
       " '__ge__',\n",
       " '__getattribute__',\n",
       " '__gt__',\n",
       " '__hash__',\n",
       " '__init__',\n",
       " '__init_subclass__',\n",
       " '__le__',\n",
       " '__lt__',\n",
       " '__module__',\n",
       " '__ne__',\n",
       " '__new__',\n",
       " '__reduce__',\n",
       " '__reduce_ex__',\n",
       " '__repr__',\n",
       " '__setattr__',\n",
       " '__sizeof__',\n",
       " '__str__',\n",
       " '__subclasshook__',\n",
       " '__weakref__',\n",
       " 'doors',\n",
       " 'enginetype',\n",
       " 'windows']"
      ]
     },
     "execution_count": 37,
     "metadata": {},
     "output_type": "execute_result"
    }
   ],
   "source": [
    "dir(car2)"
   ]
  },
  {
   "cell_type": "code",
   "execution_count": 38,
   "metadata": {},
   "outputs": [],
   "source": [
    "#there is no limit to the number of attributes that we can create inside a class therefore we don't use pass but instead use self_init\n",
    "\n",
    "class Car:\n",
    "    def __init__(self,windows,doors,enginetype): #constructor initializes the attributes values\n",
    "        self.windows = windows\n",
    "        self.doors = doors\n",
    "        self.enginetype = enginetype"
   ]
  },
  {
   "cell_type": "code",
   "execution_count": 39,
   "metadata": {},
   "outputs": [],
   "source": [
    "car3 = Car(2,3,'h')"
   ]
  },
  {
   "cell_type": "code",
   "execution_count": 40,
   "metadata": {},
   "outputs": [
    {
     "data": {
      "text/plain": [
       "2"
      ]
     },
     "execution_count": 40,
     "metadata": {},
     "output_type": "execute_result"
    }
   ],
   "source": [
    "car3.windows"
   ]
  },
  {
   "cell_type": "code",
   "execution_count": 42,
   "metadata": {},
   "outputs": [
    {
     "data": {
      "text/plain": [
       "['__class__',\n",
       " '__delattr__',\n",
       " '__dict__',\n",
       " '__dir__',\n",
       " '__doc__',\n",
       " '__eq__',\n",
       " '__format__',\n",
       " '__ge__',\n",
       " '__getattribute__',\n",
       " '__gt__',\n",
       " '__hash__',\n",
       " '__init__',\n",
       " '__init_subclass__',\n",
       " '__le__',\n",
       " '__lt__',\n",
       " '__module__',\n",
       " '__ne__',\n",
       " '__new__',\n",
       " '__reduce__',\n",
       " '__reduce_ex__',\n",
       " '__repr__',\n",
       " '__setattr__',\n",
       " '__sizeof__',\n",
       " '__str__',\n",
       " '__subclasshook__',\n",
       " '__weakref__',\n",
       " 'doors',\n",
       " 'enginetype',\n",
       " 'windows']"
      ]
     },
     "execution_count": 42,
     "metadata": {},
     "output_type": "execute_result"
    }
   ],
   "source": [
    "dir(car3)"
   ]
  },
  {
   "cell_type": "code",
   "execution_count": 52,
   "metadata": {},
   "outputs": [
    {
     "ename": "SyntaxError",
     "evalue": "invalid syntax (<ipython-input-52-da0d93387f70>, line 6)",
     "output_type": "error",
     "traceback": [
      "\u001b[1;36m  File \u001b[1;32m\"<ipython-input-52-da0d93387f70>\"\u001b[1;36m, line \u001b[1;32m6\u001b[0m\n\u001b[1;33m    def self_driving(self,self.enginetype):\u001b[0m\n\u001b[1;37m                              ^\u001b[0m\n\u001b[1;31mSyntaxError\u001b[0m\u001b[1;31m:\u001b[0m invalid syntax\n"
     ]
    }
   ],
   "source": [
    "class Cars:\n",
    "    def __init__(self,windows,doors,enginetype): #constructor initializes the attributes values\n",
    "        self.windows = windows\n",
    "        self.doors = doors\n",
    "        self.enginetype = enginetype\n",
    "    def self_driving(self):\n",
    "        return 'This is a {} car'.format(self.enginetype)\n",
    "        "
   ]
  },
  {
   "cell_type": "code",
   "execution_count": 49,
   "metadata": {},
   "outputs": [],
   "source": [
    "car5 =Cars(2,3,'fgh')"
   ]
  },
  {
   "cell_type": "code",
   "execution_count": 50,
   "metadata": {},
   "outputs": [
    {
     "data": {
      "text/plain": [
       "<bound method Cars.self_driving of <__main__.Cars object at 0x000002B8E0EB1B00>>"
      ]
     },
     "execution_count": 50,
     "metadata": {},
     "output_type": "execute_result"
    }
   ],
   "source": [
    "car5.self_driving"
   ]
  },
  {
   "cell_type": "code",
   "execution_count": 54,
   "metadata": {},
   "outputs": [
    {
     "data": {
      "text/plain": [
       "'This is a fgh car'"
      ]
     },
     "execution_count": 54,
     "metadata": {},
     "output_type": "execute_result"
    }
   ],
   "source": [
    "car5.self_driving()"
   ]
  },
  {
   "cell_type": "code",
   "execution_count": null,
   "metadata": {},
   "outputs": [],
   "source": []
  }
 ],
 "metadata": {
  "kernelspec": {
   "display_name": "Python 3",
   "language": "python",
   "name": "python3"
  },
  "language_info": {
   "codemirror_mode": {
    "name": "ipython",
    "version": 3
   },
   "file_extension": ".py",
   "mimetype": "text/x-python",
   "name": "python",
   "nbconvert_exporter": "python",
   "pygments_lexer": "ipython3",
   "version": "3.7.3"
  }
 },
 "nbformat": 4,
 "nbformat_minor": 2
}
