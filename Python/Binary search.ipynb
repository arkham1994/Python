{
 "cells": [
  {
   "cell_type": "markdown",
   "id": "b07429ee",
   "metadata": {},
   "source": [
    "# Binary search"
   ]
  },
  {
   "cell_type": "code",
   "execution_count": 1,
   "id": "df0848d5",
   "metadata": {},
   "outputs": [],
   "source": [
    "import random\n",
    "import math\n"
   ]
  },
  {
   "cell_type": "code",
   "execution_count": 12,
   "id": "d2755ca4",
   "metadata": {},
   "outputs": [],
   "source": [
    "lis =[i for i in range(0,100000)]"
   ]
  },
  {
   "cell_type": "code",
   "execution_count": 2,
   "id": "d8e5081b",
   "metadata": {},
   "outputs": [],
   "source": [
    "def binary_search(lst , target, low = None , high =None):\n",
    "   \n",
    "    if low == None:\n",
    "        low = 0\n",
    "    if high == None:\n",
    "        high = len(lst) -1\n",
    "        \n",
    "    mid = (low +high) // 2    \n",
    "   \n",
    "    \n",
    "    \n",
    "    if low <= high:\n",
    "        if lst[mid] == target:\n",
    "            return mid\n",
    "        elif lst[mid] > target:\n",
    "            high = mid - 1\n",
    "            return binary_search(lst, target,low,high)\n",
    "        else:\n",
    "            low = mid +1\n",
    "            return binary_search(lst, target,low, high)\n",
    "            \n",
    "         \n",
    "        \n",
    "        \n",
    "    else:\n",
    "        return ('Number not present in the list')\n",
    "    \n",
    "    \n",
    "            \n",
    "        \n",
    "        \n",
    "    "
   ]
  },
  {
   "cell_type": "code",
   "execution_count": 4,
   "id": "2268829e",
   "metadata": {},
   "outputs": [
    {
     "name": "stdout",
     "output_type": "stream",
     "text": [
      "555\n"
     ]
    }
   ],
   "source": [
    "print(binary_search(lis , ))"
   ]
  },
  {
   "cell_type": "code",
   "execution_count": 13,
   "id": "be9ae1dd",
   "metadata": {},
   "outputs": [
    {
     "name": "stdout",
     "output_type": "stream",
     "text": [
      "55555\n",
      "0.00099945068359375\n"
     ]
    }
   ],
   "source": [
    "import time\n",
    "\n",
    "start = time.time()\n",
    "print(binary_search(lis ,55555 ))\n",
    "end = time.time()\n",
    "print(end - start)"
   ]
  },
  {
   "cell_type": "code",
   "execution_count": 6,
   "id": "27f16919",
   "metadata": {},
   "outputs": [],
   "source": [
    "def search(lst, target):\n",
    "    for index, value in enumerate(lst):\n",
    "        if value == target:\n",
    "            return index\n",
    "        \n",
    "        \n",
    "        \n",
    "        "
   ]
  },
  {
   "cell_type": "code",
   "execution_count": 22,
   "id": "4cb80e82",
   "metadata": {},
   "outputs": [
    {
     "name": "stdout",
     "output_type": "stream",
     "text": [
      "1.6636300086975097e-06\n"
     ]
    }
   ],
   "source": [
    "start = time.time()\n",
    "for i in range(0,10000):\n",
    "    (binary_search(lis ,i ))\n",
    "end = time.time()\n",
    "print((end - start)/len(lis))"
   ]
  },
  {
   "cell_type": "code",
   "execution_count": 23,
   "id": "d8c3387b",
   "metadata": {},
   "outputs": [
    {
     "name": "stdout",
     "output_type": "stream",
     "text": [
      "9.822205543518067e-05\n"
     ]
    }
   ],
   "source": [
    "start = time.time()\n",
    "for i in range(0,10000):\n",
    "    (search(lis ,i ))\n",
    "end = time.time()\n",
    "print((end - start)/len(lis))"
   ]
  },
  {
   "cell_type": "code",
   "execution_count": null,
   "id": "14fb6fed",
   "metadata": {},
   "outputs": [],
   "source": []
  }
 ],
 "metadata": {
  "kernelspec": {
   "display_name": "Python 3",
   "language": "python",
   "name": "python3"
  },
  "language_info": {
   "codemirror_mode": {
    "name": "ipython",
    "version": 3
   },
   "file_extension": ".py",
   "mimetype": "text/x-python",
   "name": "python",
   "nbconvert_exporter": "python",
   "pygments_lexer": "ipython3",
   "version": "3.7.3"
  }
 },
 "nbformat": 4,
 "nbformat_minor": 5
}
