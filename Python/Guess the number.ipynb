{
 "cells": [
  {
   "cell_type": "code",
   "execution_count": 1,
   "id": "d288e5fb",
   "metadata": {},
   "outputs": [],
   "source": [
    "## Guess the number"
   ]
  },
  {
   "cell_type": "code",
   "execution_count": 6,
   "id": "3e7b98cf",
   "metadata": {},
   "outputs": [],
   "source": [
    "import random\n",
    "\n",
    "def guess(x):\n",
    "    random_number =random.randint(1,x)\n",
    "    guess = 0\n",
    "    while guess != random_number:\n",
    "        guess = int(input(f'Guess a number between 1 and {x}:'))\n",
    "        if guess < random_number:\n",
    "            print('Sorry, guess again. Too low.')\n",
    "        elif guess > random_number:\n",
    "            print('Sorry, guess again. Too high.')    \n",
    "    \n",
    "    print('Congrats. You have guessed the number correctly')\n",
    "        \n",
    "        \n",
    "def computer_guess(x):\n",
    "    low = 1\n",
    "    high = x\n",
    "    feedback = ''\n",
    "    while feedback != 'c' :\n",
    "        if low != high:\n",
    "            guess = random.randint(low, high)\n",
    "        else:\n",
    "            guess = low\n",
    "        feedback = input(f'Is {guess} too high(H), too low(L), correct(C) ??').lower()\n",
    "        if feedback =='h':\n",
    "            high = guess-1\n",
    "        elif feedback =='l':\n",
    "            low = guess+1   \n",
    "    print('Congrats. The Computer have guessed the number correctly')        \n",
    "    "
   ]
  },
  {
   "cell_type": "code",
   "execution_count": 4,
   "id": "eea9723a",
   "metadata": {},
   "outputs": [
    {
     "name": "stdout",
     "output_type": "stream",
     "text": [
      "Guess a number between 1 and 10:5\n",
      "Sorry, guess again. Too low.\n",
      "Guess a number between 1 and 10:7\n",
      "Sorry, guess again. Too low.\n",
      "Guess a number between 1 and 10:9\n",
      "Sorry, guess again. Too high.\n",
      "Guess a number between 1 and 10:8\n",
      "Congrats. You have guessed the number correctly\n"
     ]
    }
   ],
   "source": [
    "guess(10)"
   ]
  },
  {
   "cell_type": "code",
   "execution_count": 7,
   "id": "5c0d12a7",
   "metadata": {},
   "outputs": [
    {
     "name": "stdout",
     "output_type": "stream",
     "text": [
      "Is 2 too high(H), too low(L), correct(C) ??L\n",
      "Is 8 too high(H), too low(L), correct(C) ??C\n",
      "Congrats. The Computer have guessed the number correctly\n"
     ]
    }
   ],
   "source": [
    "computer_guess(8)"
   ]
  },
  {
   "cell_type": "code",
   "execution_count": 8,
   "id": "b82201be",
   "metadata": {},
   "outputs": [
    {
     "name": "stdout",
     "output_type": "stream",
     "text": [
      "Is 672 too high(H), too low(L), correct(C) ??H\n",
      "Is 633 too high(H), too low(L), correct(C) ??H\n",
      "Is 380 too high(H), too low(L), correct(C) ??L\n",
      "Is 561 too high(H), too low(L), correct(C) ??H\n",
      "Is 543 too high(H), too low(L), correct(C) ??H\n",
      "Is 409 too high(H), too low(L), correct(C) ??H\n",
      "Is 400 too high(H), too low(L), correct(C) ??H\n",
      "Is 392 too high(H), too low(L), correct(C) ??C\n",
      "Congrats. The Computer have guessed the number correctly\n"
     ]
    }
   ],
   "source": [
    "computer_guess(1000)"
   ]
  },
  {
   "cell_type": "code",
   "execution_count": 9,
   "id": "08ba43e1",
   "metadata": {},
   "outputs": [],
   "source": [
    "# Rock paper scissors\n",
    "\n",
    "import random\n",
    "\n",
    "def play():\n",
    "    user = input(\" What's your choice? 'r' for rock, 'p' for paper , 's' for scissors\").lower()\n",
    "    computer = random.choice(['r','p','s'])\n",
    "    \n",
    "    if user == computer:\n",
    "        return 'tie'\n",
    "    \n",
    "    if is_win(user, computer):\n",
    "        return 'You won!'\n",
    "    \n",
    "    return 'You lost!'\n",
    "    \n",
    "def is_win(player, opponent):\n",
    "    \n",
    "    \n",
    "    if (player == 'r' and opponent == 's') or (player == 's' and opponent == 'p')\\\n",
    "        or (player == 'p' and opponent == 'r'):\n",
    "        return True"
   ]
  },
  {
   "cell_type": "code",
   "execution_count": 12,
   "id": "6ff06db0",
   "metadata": {},
   "outputs": [
    {
     "name": "stdout",
     "output_type": "stream",
     "text": [
      " What's your choice? 'r' for rock, 'p' for paper , 's' for scissorss\n"
     ]
    },
    {
     "data": {
      "text/plain": [
       "'You lost!'"
      ]
     },
     "execution_count": 12,
     "metadata": {},
     "output_type": "execute_result"
    }
   ],
   "source": [
    "play()\n"
   ]
  },
  {
   "cell_type": "code",
   "execution_count": null,
   "id": "705611e3",
   "metadata": {},
   "outputs": [],
   "source": [
    "p"
   ]
  }
 ],
 "metadata": {
  "kernelspec": {
   "display_name": "Python 3",
   "language": "python",
   "name": "python3"
  },
  "language_info": {
   "codemirror_mode": {
    "name": "ipython",
    "version": 3
   },
   "file_extension": ".py",
   "mimetype": "text/x-python",
   "name": "python",
   "nbconvert_exporter": "python",
   "pygments_lexer": "ipython3",
   "version": "3.7.3"
  }
 },
 "nbformat": 4,
 "nbformat_minor": 5
}
