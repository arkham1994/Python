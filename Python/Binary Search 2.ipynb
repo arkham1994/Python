{
 "cells": [
  {
   "cell_type": "markdown",
   "id": "3a70f4bd",
   "metadata": {},
   "source": [
    "# Binary Search 2"
   ]
  },
  {
   "cell_type": "code",
   "execution_count": 10,
   "id": "6770832c",
   "metadata": {},
   "outputs": [],
   "source": [
    "class Binary():\n",
    "    \n",
    "    def __init__(self, data, left = None, right = None):\n",
    "        self.data = data\n",
    "        self.left = left\n",
    "        self.right = right\n",
    "        \n",
    "        \n",
    "    def insert(self, data):\n",
    "        if self.data == data:\n",
    "            return  False\n",
    "        elif self.data > data:\n",
    "            if self.left is not None:\n",
    "                return self.left.insert(data)\n",
    "            else:\n",
    "                self.left = Binary(data)\n",
    "                return True\n",
    "        else:\n",
    "            if self.right is not None:\n",
    "                return self.right.insert(data)\n",
    "            else:\n",
    "                self.right = Binary(data) \n",
    "                return True\n",
    "            \n",
    "    def find(self, data):\n",
    "        if self.data == data:\n",
    "            return data\n",
    "        elif self.data > data:\n",
    "            if self.left is not None:\n",
    "                return self.left.find(data)\n",
    "            else:\n",
    "                return False\n",
    "            \n",
    "        else:\n",
    "            if self.right is not None:\n",
    "                return self.right.find(data)\n",
    "            else:\n",
    "                return False     \n",
    "            \n",
    "    def get_size(self):\n",
    "        \n",
    "        if self.left is not None and self.right is not None:\n",
    "            return 1 + self.left.get_size() + self.right.get_size()\n",
    "        \n",
    "        elif self.left:\n",
    "            return 1 + self.left.get_size()\n",
    "        \n",
    "        elif self.right:\n",
    "            return 1 + self.right.get_size()\n",
    "        \n",
    "        else:\n",
    "            return 1\n",
    "        \n",
    "    def preorder(self):\n",
    "        if self is not None:\n",
    "            print(self.data, end= ' ')\n",
    "            \n",
    "            if self.left is not None:\n",
    "                self.left.preorder()\n",
    "            if self.right:\n",
    "                self.right.preorder()\n",
    "        \n",
    "    def inorder(self):\n",
    "        if self is not None:\n",
    "            \n",
    "            \n",
    "            if self.left is not None:\n",
    "                self.left.inorder()\n",
    "            print(self.data, end= ' ')\n",
    "            \n",
    "            if self.right:\n",
    "                self.right.inorder()    \n",
    "            \n",
    "        \n",
    "        \n",
    "        "
   ]
  },
  {
   "cell_type": "code",
   "execution_count": 11,
   "id": "0f929c67",
   "metadata": {},
   "outputs": [
    {
     "name": "stdout",
     "output_type": "stream",
     "text": [
      "False 1 2 3 4 False 6 7 False 9 10 11 12 13 14 15 \n",
      " 13\n",
      "7 2 1 3 6 4 9 15 10 12 11 13 14 \n",
      "1 2 3 4 6 7 9 10 11 12 13 14 15 \n"
     ]
    }
   ],
   "source": [
    "tree = Binary(7)\n",
    "tree.insert(9)\n",
    "for i in [15, 10, 12, 2,3,1,6,13,11,14,9,4]:\n",
    "    tree.insert(i)\n",
    "    \n",
    "for i in range(0,16):\n",
    "    print(tree.find(i), end =' ')\n",
    "    \n",
    "print('\\n',tree.get_size())   \n",
    "\n",
    "tree.preorder()\n",
    "print()\n",
    "tree.inorder()\n",
    "print()"
   ]
  },
  {
   "cell_type": "code",
   "execution_count": null,
   "id": "53678b02",
   "metadata": {},
   "outputs": [],
   "source": []
  }
 ],
 "metadata": {
  "kernelspec": {
   "display_name": "Python 3",
   "language": "python",
   "name": "python3"
  },
  "language_info": {
   "codemirror_mode": {
    "name": "ipython",
    "version": 3
   },
   "file_extension": ".py",
   "mimetype": "text/x-python",
   "name": "python",
   "nbconvert_exporter": "python",
   "pygments_lexer": "ipython3",
   "version": "3.7.3"
  }
 },
 "nbformat": 4,
 "nbformat_minor": 5
}
